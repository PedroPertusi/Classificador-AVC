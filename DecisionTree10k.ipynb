{
 "cells": [
  {
   "cell_type": "code",
   "execution_count": 1,
   "metadata": {},
   "outputs": [],
   "source": [
    "import pandas as pd\n",
    "import numpy as np\n",
    "import matplotlib.pyplot as plt\n",
    "from sklearn.model_selection import train_test_split\n",
    "from sklearn.tree import plot_tree, DecisionTreeClassifier\n",
    "from sklearn.metrics import accuracy_score\n",
    "import autograd.numpy as np_   # Thinly-wrapped version of Numpy\n",
    "from autograd import grad"
   ]
  },
  {
   "attachments": {},
   "cell_type": "markdown",
   "metadata": {},
   "source": [
    "## Características mais impactantes em casos de AVC\n",
    "\n",
    "Em busca de obter resultados sobre quais características mais aparecem nos casos de AVC, como grupo, decidimos usar o classificador de Árvore de Decisão com poda nos dados, equilíbrio entre pessoas que tiveram AVC e que não tiveram, para assim obter as tais características mais impactantes. Para melhorar os resultados obtidos, além da poda do DataFrame mencionada acima, também foi realizada a exclusão de índices numéricos, como é o caso da idade, índice de massa corporal (IMC) e nível de glicose. Após tudo isso, realizamos o teste 10.000 vezes para, então, obter as top 5 características mais impactantes, apresentadas na tabela abaixo:\n",
    "\n",
    "| Category                | Count |\n",
    "|-------------------------|-------|\n",
    "| hypertension             | 6468  |\n",
    "| work_type_children       | 4330  |\n",
    "| heart_disease            | 3655  |\n",
    "| work_type_Private        | 3561  |\n",
    "| smoking_status_smokes    | 3273  |"
   ]
  },
  {
   "cell_type": "code",
   "execution_count": 19,
   "metadata": {},
   "outputs": [
    {
     "data": {
      "text/plain": [
       "hypertension             6468\n",
       "work_type_children       4330\n",
       "heart_disease            3655\n",
       "work_type_Private        3561\n",
       "smoking_status_smokes    3273\n",
       "dtype: int64"
      ]
     },
     "execution_count": 19,
     "metadata": {},
     "output_type": "execute_result"
    }
   ],
   "source": [
    "df = pd.read_csv('data/healthcare-dataset-stroke-data.csv')\n",
    "df = df[df['bmi'].notna()]\n",
    "df_p = pd.concat([df[df['stroke'] == 0].head(len(df[df['stroke'] == 1])), df[df['stroke'] == 1]])\n",
    "df_features = df_p[['gender','hypertension','heart_disease','ever_married','work_type','Residence_type','smoking_status']]\n",
    "df_features = pd.get_dummies(df_features)\n",
    "df_outcome = df_p[['stroke']].replace(0,-1)\n",
    "df_outcome = pd.get_dummies(df_outcome)\n",
    "\n",
    "most_occuring = list()\n",
    "for i in range (10000):\n",
    "    X_train, X_test, y_train, y_test = train_test_split(df_features, df_outcome, train_size=0.5)\n",
    "    X_train, X_test, y_train, y_test = X_train.to_numpy(), X_test.to_numpy(), y_train.to_numpy(), y_test.to_numpy()\n",
    "\n",
    "    tree = DecisionTreeClassifier(criterion='entropy')\n",
    "    tree = tree.fit(X_train, y_train)\n",
    "\n",
    "    y_estimado = tree.predict(X_test)\n",
    "\n",
    "    importances = tree.feature_importances_\n",
    "    importances_indices = np.argsort(importances)[::-1]\n",
    "    importances_indices = importances_indices[:5]\n",
    "\n",
    "    colunas = list(df_features.head(0))\n",
    "\n",
    "    for i in range(5):\n",
    "        most_occuring.append(colunas[importances_indices[i]])\n",
    "\n",
    "most_occuring = pd.DataFrame(most_occuring)\n",
    "most_occuring = most_occuring.value_counts()\n",
    "most_occuring.head(5)"
   ]
  }
 ],
 "metadata": {
  "kernelspec": {
   "display_name": "Python 3",
   "language": "python",
   "name": "python3"
  },
  "language_info": {
   "codemirror_mode": {
    "name": "ipython",
    "version": 3
   },
   "file_extension": ".py",
   "mimetype": "text/x-python",
   "name": "python",
   "nbconvert_exporter": "python",
   "pygments_lexer": "ipython3",
   "version": "3.10.2"
  },
  "orig_nbformat": 4
 },
 "nbformat": 4,
 "nbformat_minor": 2
}
